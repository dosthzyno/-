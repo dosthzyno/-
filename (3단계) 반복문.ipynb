{
 "cells": [
  {
   "cell_type": "markdown",
   "id": "c356e766",
   "metadata": {},
   "source": [
    "# 반복문"
   ]
  },
  {
   "cell_type": "markdown",
   "id": "cd9c85ed",
   "metadata": {},
   "source": [
    "- 구구단 N단을 출력하는 프로그램을 작성하시오\n",
    "- 첫째 줄에 N이 주어진다. N은 1보다 크거나 같고, 9보다 작거나 같다"
   ]
  },
  {
   "cell_type": "code",
   "execution_count": 22,
   "id": "988f29b0",
   "metadata": {},
   "outputs": [
    {
     "name": "stdout",
     "output_type": "stream",
     "text": [
      "5\n",
      "5 * 1 = 5\n",
      "5 * 2 = 10\n",
      "5 * 3 = 15\n",
      "5 * 4 = 20\n",
      "5 * 5 = 25\n",
      "5 * 6 = 30\n",
      "5 * 7 = 35\n",
      "5 * 8 = 40\n",
      "5 * 9 = 45\n"
     ]
    }
   ],
   "source": [
    "# 풀이2\n",
    "N = int(input())\n",
    "for i in range(1,10):\n",
    "    print(\"{} * {} =\".format(N, i), N*i)"
   ]
  },
  {
   "cell_type": "code",
   "execution_count": 20,
   "id": "9e74be21",
   "metadata": {},
   "outputs": [
    {
     "name": "stdout",
     "output_type": "stream",
     "text": [
      "2\n",
      "2 * 1 = 2\n",
      "2 * 2 = 4\n",
      "2 * 3 = 6\n",
      "2 * 4 = 8\n",
      "2 * 5 = 10\n",
      "2 * 6 = 12\n",
      "2 * 7 = 14\n",
      "2 * 8 = 16\n",
      "2 * 9 = 18\n"
     ]
    }
   ],
   "source": [
    "# 풀이2\n",
    "n = int(input())\n",
    "for i in range(1,10):  # 1~9\n",
    "    print(f'{n} * {i} = {n*i}')"
   ]
  },
  {
   "cell_type": "markdown",
   "id": "f2022081",
   "metadata": {},
   "source": [
    "- 두 정수 A와 B를 입력받은 다음, A+B를 출력하는 프로그램을 작성하시오.\n",
    "- (0 < A, B < 10)"
   ]
  },
  {
   "cell_type": "code",
   "execution_count": 33,
   "id": "34148454",
   "metadata": {},
   "outputs": [
    {
     "name": "stdout",
     "output_type": "stream",
     "text": [
      "2\n",
      "5 4\n",
      "9\n",
      "3 2\n",
      "5\n"
     ]
    }
   ],
   "source": [
    "# 풀이 1\n",
    "T = int(input())\n",
    "i = 0\n",
    "while i < T:\n",
    "    i += 1\n",
    "    A, B = map(int, input().split())\n",
    "    print(A+B)"
   ]
  },
  {
   "cell_type": "code",
   "execution_count": 36,
   "id": "0e13df30",
   "metadata": {},
   "outputs": [],
   "source": [
    "# 풀이 2\n",
    "t = int(input())  # 테스트 케이스 개수 t를 입력받음\n",
    "\n",
    "for _ in range(t):  # t 만큼 반복\n",
    "    a,b = map(int,input().split())\n",
    "    print(a+b)"
   ]
  },
  {
   "cell_type": "markdown",
   "id": "13db6bb8",
   "metadata": {},
   "source": [
    "- n이 주어졌을 때, 1부터 n까지 합을 구하는 프로그램을 작성하시오.\n",
    "- 첫째 줄에 n (1 ≤ n ≤ 10,000)이 주어진다."
   ]
  },
  {
   "cell_type": "code",
   "execution_count": 6,
   "id": "e8c74bb0",
   "metadata": {},
   "outputs": [
    {
     "data": {
      "text/plain": [
       "6"
      ]
     },
     "execution_count": 6,
     "metadata": {},
     "output_type": "execute_result"
    }
   ],
   "source": [
    "a = [1,2,3]\n",
    "sum(a)"
   ]
  },
  {
   "cell_type": "code",
   "execution_count": 23,
   "id": "c46885d6",
   "metadata": {},
   "outputs": [
    {
     "name": "stdout",
     "output_type": "stream",
     "text": [
      "3\n",
      "6\n"
     ]
    }
   ],
   "source": [
    "# 풀이 1\n",
    "number = int(input())\n",
    "n = []\n",
    "for num in range(1,number+1):\n",
    "    n.append(num)\n",
    "print(sum(n))"
   ]
  },
  {
   "cell_type": "code",
   "execution_count": 28,
   "id": "37077764",
   "metadata": {},
   "outputs": [
    {
     "name": "stdout",
     "output_type": "stream",
     "text": [
      "3\n",
      "6\n"
     ]
    }
   ],
   "source": [
    "# 풀이 2\n",
    "number = int(input())\n",
    "num = 0\n",
    "for n in range(1, number+1):\n",
    "    num += n\n",
    "print(num)\n"
   ]
  },
  {
   "cell_type": "markdown",
   "id": "358583ca",
   "metadata": {},
   "source": [
    "각 테스트케이스마다 A+B를 한 줄에 하나씩 순서대로 출력한다"
   ]
  },
  {
   "cell_type": "code",
   "execution_count": 34,
   "id": "7e4c2fe5",
   "metadata": {},
   "outputs": [
    {
     "name": "stdout",
     "output_type": "stream",
     "text": [
      "2\n",
      "3 3\n",
      "4 4\n",
      "8\n"
     ]
    }
   ],
   "source": [
    "# 풀이 1 -> 시간초과\n",
    "T = int(input())\n",
    "\n",
    "for _ in range(T):\n",
    "    a,b = map(int,input().split())\n",
    "    print(a+b)"
   ]
  },
  {
   "cell_type": "code",
   "execution_count": 41,
   "id": "340b5b47",
   "metadata": {},
   "outputs": [],
   "source": [
    "# # 풀이 2 -> sys.stdin.readline은 쥬피터 지원 안됨\n",
    "# import sys\n",
    "# t = int(sys.stdin.readline())\n",
    "# for _ in range(t):\n",
    "#     a, b = map(int, sys.stdin.readline().split())\n",
    "#     print(a+b)"
   ]
  },
  {
   "cell_type": "markdown",
   "id": "c2502917",
   "metadata": {},
   "source": [
    "자연수 N이 주어졌을 때, 1부터 N까지 한 줄에 하나씩 출력하는 프로그램을 작성하시오."
   ]
  },
  {
   "cell_type": "code",
   "execution_count": 42,
   "id": "21cc3029",
   "metadata": {},
   "outputs": [
    {
     "name": "stdout",
     "output_type": "stream",
     "text": [
      "5\n",
      "1\n",
      "2\n",
      "3\n",
      "4\n",
      "5\n"
     ]
    }
   ],
   "source": [
    "N = int(input())\n",
    "for n in range(1,N+1):\n",
    "    print(n)"
   ]
  },
  {
   "cell_type": "code",
   "execution_count": null,
   "id": "9937441b",
   "metadata": {},
   "outputs": [],
   "source": [
    "N = int(sys.stdin.readline())\n",
    "for n in range(1,N+1):\n",
    "    print(n)"
   ]
  },
  {
   "cell_type": "markdown",
   "id": "7dc3da92",
   "metadata": {},
   "source": [
    "- 자연수 N이 주어졌을 때, N부터 1까지 한 줄에 하나씩 출력하는 프로그램을 작성하시오.\n",
    "- 이번에는 거꾸로 출력"
   ]
  },
  {
   "cell_type": "code",
   "execution_count": 46,
   "id": "8762cf92",
   "metadata": {},
   "outputs": [
    {
     "name": "stdout",
     "output_type": "stream",
     "text": [
      "5\n",
      "5\n",
      "4\n",
      "3\n",
      "2\n",
      "1\n"
     ]
    }
   ],
   "source": [
    "N = int(input())\n",
    "for n in reversed(range(1, N+1)):\n",
    "    print(n)"
   ]
  },
  {
   "cell_type": "markdown",
   "id": "a884a943",
   "metadata": {},
   "source": [
    "각 테스트 케이스마다 \"Case #x: \"를 출력한 다음, A+B를 출력한다. 테스트 케이스 번호는 1부터 시작한다"
   ]
  },
  {
   "cell_type": "code",
   "execution_count": 50,
   "id": "1eb66b54",
   "metadata": {},
   "outputs": [
    {
     "name": "stdout",
     "output_type": "stream",
     "text": [
      "2\n",
      "3 2\n",
      "Case #1: 5\n",
      "4 1\n",
      "Case #2: 5\n"
     ]
    }
   ],
   "source": [
    "T = int(input())\n",
    "\n",
    "for index, num in enumerate(range(T),1):\n",
    "    a,b = map(int, input().split())\n",
    "    print(\"Case #{}: {}\".format(index, a+b))"
   ]
  },
  {
   "cell_type": "markdown",
   "id": "7fc65ce7",
   "metadata": {},
   "source": [
    "각 테스트 케이스마다 \"Case #x: A + B = C\" 형식으로 출력한다. x는 테스트 케이스 번호이고 1부터 시작하며, C는 A+B이다"
   ]
  },
  {
   "cell_type": "code",
   "execution_count": 51,
   "id": "bb026f52",
   "metadata": {},
   "outputs": [
    {
     "name": "stdout",
     "output_type": "stream",
     "text": [
      "5\n",
      "1 1\n",
      "Case #1: 1 + 1 = 2\n",
      "2 3\n",
      "Case #2: 2 + 3 = 5\n",
      "3 4\n",
      "Case #3: 3 + 4 = 7\n",
      "9 8\n",
      "Case #4: 9 + 8 = 17\n",
      "5 2\n",
      "Case #5: 5 + 2 = 7\n"
     ]
    }
   ],
   "source": [
    "T = int(input())\n",
    "for t in range(1,T+1):\n",
    "    a, b = map(int, input().split())\n",
    "    print(\"Case #{}: {} + {} = {}\".format(t,a,b,a+b))"
   ]
  },
  {
   "cell_type": "markdown",
   "id": "bfae25ea",
   "metadata": {},
   "source": [
    "첫째 줄에는 별 1개, 둘째 줄에는 별 2개, N번째 줄에는 별 N개를 찍는 문제"
   ]
  },
  {
   "cell_type": "code",
   "execution_count": 57,
   "id": "7972e3b4",
   "metadata": {},
   "outputs": [
    {
     "name": "stdout",
     "output_type": "stream",
     "text": [
      "5\n",
      "*\n",
      "**\n",
      "***\n",
      "****\n",
      "*****\n"
     ]
    }
   ],
   "source": [
    "# 풀이 1\n",
    "T = int(input())\n",
    "for i in range(1,T+1):\n",
    "    print(\"*\"*i)"
   ]
  },
  {
   "cell_type": "code",
   "execution_count": 58,
   "id": "4b94cf45",
   "metadata": {},
   "outputs": [
    {
     "name": "stdout",
     "output_type": "stream",
     "text": [
      "5\n",
      "*\n",
      "**\n",
      "***\n",
      "****\n",
      "*****\n"
     ]
    }
   ],
   "source": [
    "# 풀이 2 (속도 업)\n",
    "x = int(input())\n",
    "for i in range(x):\n",
    "    print('*'*(i+1))"
   ]
  },
  {
   "cell_type": "markdown",
   "id": "9fc17d21",
   "metadata": {},
   "source": [
    "첫째 줄에는 별 1개, 둘째 줄에는 별 2개, N번째 줄에는 별 N개를 찍는 문제\n",
    "\n",
    "하지만, 오른쪽을 기준으로 정렬한 별(예제 참고)을 출력하시오."
   ]
  },
  {
   "cell_type": "code",
   "execution_count": 69,
   "id": "39824f7d",
   "metadata": {},
   "outputs": [
    {
     "name": "stdout",
     "output_type": "stream",
     "text": [
      "5\n",
      "    *\n",
      "   **\n",
      "  ***\n",
      " ****\n",
      "*****\n"
     ]
    }
   ],
   "source": [
    "T = int(input())\n",
    "for t in range(T):\n",
    "    star=\"*\" * (t+1)\n",
    "    print(star.rjust(T))"
   ]
  },
  {
   "cell_type": "markdown",
   "id": "b22049cb",
   "metadata": {},
   "source": [
    "정수 N개로 이루어진 수열 A와 정수 X가 주어진다. 이때, A에서 X보다 작은 수를 모두 출력하는 프로그램을 작성하시오."
   ]
  },
  {
   "cell_type": "code",
   "execution_count": 88,
   "id": "cdace5ab",
   "metadata": {},
   "outputs": [
    {
     "name": "stdout",
     "output_type": "stream",
     "text": [
      "3 5\n",
      "1 2 4\n",
      "1\n",
      "2\n",
      "4\n"
     ]
    }
   ],
   "source": [
    "N, X = map(int, input().split())\n",
    "A = list(map(int, input().split()))\n",
    "\n",
    "for index in range(N):\n",
    "    if A[index] < X:\n",
    "        print(A[index])"
   ]
  },
  {
   "cell_type": "markdown",
   "id": "b7a677cd",
   "metadata": {},
   "source": [
    "입력은 여러 개의 테스트 케이스로 이루어져 있다.\n",
    "\n",
    "각 테스트 케이스는 한 줄로 이루어져 있으며, 각 줄에 A와 B가 주어진다. (0 < A, B < 10)\n",
    "\n",
    "A+B 출력\n",
    "\n",
    "입력의 마지막에는 0 두 개가 들어온다."
   ]
  },
  {
   "cell_type": "code",
   "execution_count": 90,
   "id": "35fde4b3",
   "metadata": {},
   "outputs": [
    {
     "name": "stdout",
     "output_type": "stream",
     "text": [
      "1 1\n",
      "2\n",
      "2 3\n",
      "5\n",
      "3 1\n",
      "4\n",
      "5 9\n",
      "14\n",
      "0 0\n"
     ]
    }
   ],
   "source": [
    "while True:\n",
    "    a,b = map(int, input().split())\n",
    "    if (a==0) and (b==0):\n",
    "        break\n",
    "    else:\n",
    "        print(a+b)"
   ]
  },
  {
   "cell_type": "markdown",
   "id": "de1a0961",
   "metadata": {},
   "source": [
    "입력은 여러 개의 테스트 케이스로 이루어져 있다.\n",
    "\n",
    "각 테스트 케이스는 한 줄로 이루어져 있으며, 각 줄에 A와 B가 주어진다. (0 < A, B < 10)\n",
    "\n",
    "A+B"
   ]
  },
  {
   "cell_type": "code",
   "execution_count": 102,
   "id": "07203f5b",
   "metadata": {},
   "outputs": [
    {
     "name": "stdout",
     "output_type": "stream",
     "text": [
      "10 1\n",
      "11\n",
      "2 0\n",
      "2\n",
      "3 1\n",
      "4\n",
      "3.3 1.1\n"
     ]
    }
   ],
   "source": [
    "while 1:\n",
    "    try:\n",
    "        a,b =map(int, input().split())\n",
    "        print(a+b)\n",
    "    except:\n",
    "        break"
   ]
  },
  {
   "cell_type": "markdown",
   "id": "68da7a4d",
   "metadata": {},
   "source": [
    "0보다 크거나 같고, 99보다 작거나 같은 정수가 주어질 때 다음과 같은 연산을 할 수 있다. 먼저 주어진 수가 10보다 작다면 앞에 0을 붙여 두 자리 수로 만들고, 각 자리의 숫자를 더한다. 그 다음, 주어진 수의 가장 오른쪽 자리 수와 앞에서 구한 합의 가장 오른쪽 자리 수를 이어 붙이면 새로운 수를 만들 수 있다. 다음 예를 보자.\n",
    "\n",
    "26부터 시작한다. 2+6 = 8이다. 새로운 수는 68이다. 6+8 = 14이다. 새로운 수는 84이다. 8+4 = 12이다. 새로운 수는 42이다. 4+2 = 6이다. 새로운 수는 26이다.\n",
    "\n",
    "위의 예는 4번만에 원래 수로 돌아올 수 있다. 따라서 26의 사이클의 길이는 4이다.\n",
    "\n",
    "N이 주어졌을 때, N의 사이클의 길이를 구하는 프로그램을 작성하시오."
   ]
  },
  {
   "cell_type": "code",
   "execution_count": 110,
   "id": "906f6643",
   "metadata": {},
   "outputs": [
    {
     "data": {
      "text/plain": [
       "2"
      ]
     },
     "execution_count": 110,
     "metadata": {},
     "output_type": "execute_result"
    }
   ],
   "source": [
    "n = \"10\"\n",
    "len(n)"
   ]
  },
  {
   "cell_type": "code",
   "execution_count": 125,
   "id": "792d872d",
   "metadata": {},
   "outputs": [],
   "source": [
    "# Str로 풀기 (시간초과)\n",
    "N = input()\n",
    "m = N\n",
    "cycle = 0\n",
    "\n",
    "while True:\n",
    "    if len(m)==1:\n",
    "        m = \"0\" + m\n",
    "    n = str(int(m[0]) + int(m[1]))\n",
    "    m = m[-1] + n[-1]\n",
    "    cycle += 1\n",
    "    if m == N:\n",
    "        print(cycle)\n",
    "        break"
   ]
  },
  {
   "cell_type": "code",
   "execution_count": 129,
   "id": "cd9ccf4b",
   "metadata": {},
   "outputs": [
    {
     "name": "stdout",
     "output_type": "stream",
     "text": [
      "1\n",
      "60\n"
     ]
    }
   ],
   "source": [
    "# int로 풀기\n",
    "N = int(input())\n",
    "num = N\n",
    "cycle = 0\n",
    "\n",
    "while True:\n",
    "    a = num//10\n",
    "    b = num%10\n",
    "    c = (a+b)%10\n",
    "    num = (b*10) + c\n",
    "    cycle += 1\n",
    "    \n",
    "    if num==N:\n",
    "        print(cycle)\n",
    "        break"
   ]
  }
 ],
 "metadata": {
  "kernelspec": {
   "display_name": "Python 3 (ipykernel)",
   "language": "python",
   "name": "python3"
  },
  "language_info": {
   "codemirror_mode": {
    "name": "ipython",
    "version": 3
   },
   "file_extension": ".py",
   "mimetype": "text/x-python",
   "name": "python",
   "nbconvert_exporter": "python",
   "pygments_lexer": "ipython3",
   "version": "3.9.12"
  }
 },
 "nbformat": 4,
 "nbformat_minor": 5
}
