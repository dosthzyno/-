{
 "cells": [
  {
   "cell_type": "markdown",
   "id": "f53549c1",
   "metadata": {},
   "source": [
    "# 1차원 배열"
   ]
  },
  {
   "cell_type": "markdown",
   "id": "c359ee0e",
   "metadata": {},
   "source": [
    "- 첫째 줄에 정수의 개수 N (1 ≤ N ≤ 1,000,000)이 주어진다. \n",
    "- 둘째 줄에는 N개의 정수를 공백으로 구분해서 주어진다. \n",
    "- 모든 정수는 -1,000,000보다 크거나 같고, 1,000,000보다 작거나 같은 정수이다."
   ]
  },
  {
   "cell_type": "code",
   "execution_count": 16,
   "id": "d357802a",
   "metadata": {},
   "outputs": [
    {
     "name": "stdout",
     "output_type": "stream",
     "text": [
      "5\n",
      "10 45 30 1 2\n",
      "1 45\n",
      "1 45\n"
     ]
    }
   ],
   "source": [
    "n = int(input())\n",
    "m = list(map(int,input().split()))\n",
    "# for i in range(n):\n",
    "#     print(max(m))\n",
    "#     print(min(m))\n",
    "print(\"{} {}\".format(min(m),max(m)))\n",
    "print(min(m),max(m))"
   ]
  },
  {
   "cell_type": "markdown",
   "id": "eff9b32b",
   "metadata": {},
   "source": [
    "- 9개의 서로 다른 자연수가 주어질 때, 이들 중 최댓값을 찾고 그 최댓값이 몇 번째 수인지를 구하는 프로그램을 작성하시오.\n",
    "- 예를 들어, 서로 다른 9개의 자연수\n",
    "- 3, 29, 38, 12, 57, 74, 40, 85, 61 이 주어지면, 이들 중 최댓값은 85이고, 이 값은 8번째 수이다."
   ]
  },
  {
   "cell_type": "code",
   "execution_count": 31,
   "id": "53674500",
   "metadata": {},
   "outputs": [
    {
     "name": "stdout",
     "output_type": "stream",
     "text": [
      "123\n",
      "32\n",
      "1\n",
      "2\n",
      "3\n",
      "4\n",
      "5\n",
      "2\n",
      "900\n",
      "900\n",
      "9\n"
     ]
    }
   ],
   "source": [
    "number = []\n",
    "cnt = 0\n",
    "while True:\n",
    "    num = int(input())\n",
    "    number.append(num)\n",
    "    cnt += 1\n",
    "    if cnt > 8:\n",
    "        print(max(number), number.index(max(number))+1, sep='\\n')\n",
    "        break"
   ]
  },
  {
   "cell_type": "markdown",
   "id": "459482ac",
   "metadata": {},
   "source": [
    "- 세 개의 자연수 A, B, C가 주어질 때 A × B × C를 계산한 결과에 0부터 9까지 각각의 숫자가 몇 번씩 쓰였는지를 구하는 프로그램을 작성하시오.\n",
    "\n",
    "- 예를 들어 A = 150, B = 266, C = 427 이라면 A × B × C = 150 × 266 × 427 = 17037300 이 되고, 계산한 결과 17037300 에는 0이 3번, 1이 1번, 3이 2번, 7이 2번 쓰였다."
   ]
  },
  {
   "cell_type": "code",
   "execution_count": 101,
   "id": "7568daf0",
   "metadata": {},
   "outputs": [
    {
     "name": "stdout",
     "output_type": "stream",
     "text": [
      "150\n",
      "266\n",
      "427\n",
      "3\n",
      "1\n",
      "0\n",
      "2\n",
      "0\n",
      "0\n",
      "0\n",
      "2\n",
      "0\n",
      "0\n"
     ]
    }
   ],
   "source": [
    "a = int(input())\n",
    "b = int(input())\n",
    "c = int(input())\n",
    "result = list(str(a*b*c))\n",
    "\n",
    "for num in range(10):\n",
    "    num = str(num)\n",
    "    print(result.count(num))\n"
   ]
  },
  {
   "cell_type": "code",
   "execution_count": 39,
   "id": "4ac1f53d",
   "metadata": {},
   "outputs": [
    {
     "data": {
      "text/plain": [
       "'9'"
      ]
     },
     "execution_count": 39,
     "metadata": {},
     "output_type": "execute_result"
    }
   ],
   "source": [
    "num"
   ]
  },
  {
   "cell_type": "markdown",
   "id": "a714d1f3",
   "metadata": {},
   "source": [
    "- 두 자연수 A와 B가 있을 때, A%B는 A를 B로 나눈 나머지 이다. 예를 들어, 7, 14, 27, 38을 3으로 나눈 나머지는 1, 2, 0, 2이다. \n",
    "\n",
    "- 수 10개를 입력받은 뒤, 이를 42로 나눈 나머지를 구한다. 그 다음 서로 다른 값이 몇 개 있는지 출력하는 프로그램을 작성하시오."
   ]
  },
  {
   "cell_type": "code",
   "execution_count": 131,
   "id": "1325b0e1",
   "metadata": {},
   "outputs": [
    {
     "name": "stdout",
     "output_type": "stream",
     "text": [
      "42\n",
      "84\n",
      "252\n",
      "420\n",
      "840\n",
      "126\n",
      "42\n",
      "84\n",
      "420\n",
      "126\n",
      "1\n"
     ]
    }
   ],
   "source": [
    "result = []\n",
    "count = 0\n",
    "for i in range(10):\n",
    "    n = int(input())\n",
    "    r = n%42\n",
    "    result.append(r)\n",
    "    if result.count(result[i]) == 1:\n",
    "        count += 1\n",
    "print(count)"
   ]
  },
  {
   "cell_type": "code",
   "execution_count": 133,
   "id": "3bc39ff0",
   "metadata": {},
   "outputs": [
    {
     "name": "stdout",
     "output_type": "stream",
     "text": [
      "1\n",
      "2\n",
      "3\n",
      "4\n",
      "5\n",
      "6\n",
      "7\n",
      "8\n",
      "9\n",
      "10\n",
      "10\n"
     ]
    }
   ],
   "source": [
    "# 풀이 2\n",
    "result = [int(input())%42 for i in range(10)]\n",
    "print(len(set(result)))"
   ]
  },
  {
   "cell_type": "markdown",
   "id": "379c6d2b",
   "metadata": {},
   "source": [
    "- 세준이는 기말고사를 망쳤다. 세준이는 점수를 조작해서 집에 가져가기로 했다. 일단 세준이는 자기 점수 중에 최댓값을 골랐다. 이 값을 M이라고 한다. 그리고 나서 모든 점수를 점수/M*100으로 고쳤다.\n",
    "\n",
    "- 예를 들어, 세준이의 최고점이 70이고, 수학점수가 50이었으면 수학점수는 50/70*100이 되어 71.43점이 된다.\n",
    "\n",
    "- 세준이의 성적을 위의 방법대로 새로 계산했을 때, 새로운 평균을 구하는 프로그램을 작성하시오."
   ]
  },
  {
   "cell_type": "code",
   "execution_count": 188,
   "id": "da643f42",
   "metadata": {},
   "outputs": [
    {
     "name": "stdout",
     "output_type": "stream",
     "text": [
      "5\n",
      "1 2 4 8 16\n",
      "38.75\n"
     ]
    }
   ],
   "source": [
    "n = int(input())\n",
    "score = list(map(int,input().split()))\n",
    "new_score = []\n",
    "for i in range(n):\n",
    "    m = max(score)\n",
    "    s = score[i] / m * 100\n",
    "    new_score.append(s)\n",
    "    mean = sum(new_score) / n\n",
    "print(mean)"
   ]
  },
  {
   "cell_type": "markdown",
   "id": "e0dfbc32",
   "metadata": {},
   "source": [
    "- \"OOXXOXXOOO\"와 같은 OX퀴즈의 결과가 있다. O는 문제를 맞은 것이고, X는 문제를 틀린 것이다. 문제를 맞은 경우 그 문제의 점수는 그 문제까지 연속된 O의 개수가 된다. 예를 들어, 10번 문제의 점수는 3이 된다.\n",
    "\n",
    "- \"OOXXOXXOOO\"의 점수는 1+2+0+0+1+0+0+1+2+3 = 10점이다.\n",
    "\n",
    "- OX퀴즈의 결과가 주어졌을 때, 점수를 구하는 프로그램을 작성하시오."
   ]
  },
  {
   "cell_type": "code",
   "execution_count": 29,
   "id": "b7adc937",
   "metadata": {},
   "outputs": [
    {
     "name": "stdout",
     "output_type": "stream",
     "text": [
      "2\n",
      "OOXXOXXOOO\n",
      "10\n",
      "OOXXOOXXOO\n",
      "9\n"
     ]
    }
   ],
   "source": [
    "# 풀이 1\n",
    "n = int(input())\n",
    "add = []\n",
    "for i in range(n):\n",
    "    ox = input()\n",
    "    count = 0\n",
    "    for j in range(len(ox)):\n",
    "        if \"O\" in ox[j]:\n",
    "            count += 1\n",
    "            add.append(count)\n",
    "        else:\n",
    "            count = 0\n",
    "            add.append(count)\n",
    "    print(sum(add))\n",
    "    del add[:]"
   ]
  },
  {
   "cell_type": "code",
   "execution_count": 198,
   "id": "9815b640",
   "metadata": {},
   "outputs": [
    {
     "data": {
      "text/plain": [
       "45"
      ]
     },
     "execution_count": 198,
     "metadata": {},
     "output_type": "execute_result"
    }
   ],
   "source": [
    "# 풀이 2\n",
    "n = int(input())\n",
    "\n",
    "for i in range(n):\n",
    "    li = list(input())\n",
    "    score = 0\n",
    "    sum_score = 0\n",
    "    for i in li:\n",
    "        if i == \"O\":\n",
    "            score +=1\n",
    "        else:\n",
    "            score = 0\n",
    "        sum_score +=score\n",
    "    print(sum_score)"
   ]
  },
  {
   "cell_type": "markdown",
   "id": "7f338cc5",
   "metadata": {},
   "source": [
    "- 첫째 줄에는 테스트 케이스의 개수 C가 주어진다.\n",
    "\n",
    "- 둘째 줄부터 각 테스트 케이스마다 학생의 수 N(1 ≤ N ≤ 1000, N은 정수)이 첫 수로 주어지고, 이어서 N명의 점수가 주어진다. 점수는 0보다 크거나 같고, 100보다 작거나 같은 정수이다.\n",
    "\n",
    "- 각 케이스마다 한 줄씩 평균을 넘는 학생들의 비율을 반올림하여 소수점 셋째 자리까지 출력한다."
   ]
  },
  {
   "cell_type": "code",
   "execution_count": 64,
   "id": "070bf80f",
   "metadata": {},
   "outputs": [
    {
     "name": "stdout",
     "output_type": "stream",
     "text": [
      "5\n",
      "5 50 50 70 80 100\n",
      "40.000%\n",
      "7 100 95 90 80 70 60 50\n",
      "57.143%\n",
      "3 70 90 80\n",
      "33.333%\n",
      "3 70 90 81\n",
      "66.667%\n",
      "9 100 99 98 97 96 95 94 93 91\n",
      "55.556%\n"
     ]
    }
   ],
   "source": [
    "c = int(input())\n",
    "\n",
    "for _ in range(c):\n",
    "    count = 0\n",
    "    score = list(map(int, input().split()))\n",
    "    mean = sum(score[1:]) / score[0]\n",
    "    \n",
    "    for j in score[1:]:\n",
    "        if j > mean:\n",
    "            count += 1\n",
    "    ratio = count / score[0] * 100\n",
    "    print(f'{ratio:.3f}%')"
   ]
  }
 ],
 "metadata": {
  "kernelspec": {
   "display_name": "Python 3 (ipykernel)",
   "language": "python",
   "name": "python3"
  },
  "language_info": {
   "codemirror_mode": {
    "name": "ipython",
    "version": 3
   },
   "file_extension": ".py",
   "mimetype": "text/x-python",
   "name": "python",
   "nbconvert_exporter": "python",
   "pygments_lexer": "ipython3",
   "version": "3.9.12"
  }
 },
 "nbformat": 4,
 "nbformat_minor": 5
}
