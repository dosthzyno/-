{
 "cells": [
  {
   "cell_type": "markdown",
   "id": "67ba1494",
   "metadata": {},
   "source": [
    "# 조건문"
   ]
  },
  {
   "cell_type": "markdown",
   "id": "659b11ae",
   "metadata": {},
   "source": [
    "- A가 B보다 큰 경우에는 '>'를 출력한다.\n",
    "- A가 B보다 작은 경우에는 '<'를 출력한다.\n",
    "- A와 B가 같은 경우에는 '=='를 출력한다."
   ]
  },
  {
   "cell_type": "code",
   "execution_count": 111,
   "id": "7c61573b",
   "metadata": {},
   "outputs": [
    {
     "name": "stdout",
     "output_type": "stream",
     "text": [
      "100 101\n",
      "<\n"
     ]
    }
   ],
   "source": [
    "A, B = input().split()\n",
    "a = int(A)\n",
    "b = int(B)\n",
    "\n",
    "if (-10000< a,b < 10000):\n",
    "    if a > b:\n",
    "        print(\">\")\n",
    "    elif a < b:\n",
    "        print(\"<\")\n",
    "    elif a == b:\n",
    "        print(\"==\")"
   ]
  },
  {
   "cell_type": "markdown",
   "id": "dd8b2155",
   "metadata": {},
   "source": [
    "시험 점수를 입력받아 90 ~ 100점은 A, 80 ~ 89점은 B, 70 ~ 79점은 C, 60 ~ 69점은 D, 나머지 점수는 F를 출력하는 프로그램을 작성하시오."
   ]
  },
  {
   "cell_type": "code",
   "execution_count": 116,
   "id": "23ed3efb",
   "metadata": {},
   "outputs": [
    {
     "name": "stdout",
     "output_type": "stream",
     "text": [
      "39\n",
      "F\n"
     ]
    }
   ],
   "source": [
    "test = int(input())\n",
    "if (0 <= test <= 100):\n",
    "    if 90 <= test <= 100:\n",
    "        print(\"A\")\n",
    "    elif 80 <= test <= 89:\n",
    "        print(\"B\")\n",
    "    elif 70 <= test <= 79:\n",
    "        print(\"C\")\n",
    "    elif 60 <= test <= 69:\n",
    "        print(\"D\")\n",
    "    else:\n",
    "        print(\"F\")\n",
    "    "
   ]
  },
  {
   "cell_type": "markdown",
   "id": "f63bd01b",
   "metadata": {},
   "source": [
    "- 서력 기원 연수가 4로 나누어 떨어지는 해는 윤년으로 한다. ...\n",
    "- 서력 기원 연수가 4, 100으로 나누어 떨어지는 해는 평년으로 한다. ...\n",
    "- 서력 기원 연수가 4, 100, 400으로 나누어 떨어지는 해는 윤년으로 둔다"
   ]
  },
  {
   "cell_type": "code",
   "execution_count": 160,
   "id": "8b268a12",
   "metadata": {},
   "outputs": [
    {
     "name": "stdout",
     "output_type": "stream",
     "text": [
      "1992\n",
      "1\n"
     ]
    }
   ],
   "source": [
    "year = int(input())\n",
    "if (year%4 == 0) & (year%100 == 0) & (year%400 == 0):\n",
    "    print(1)\n",
    "elif (year%4 == 0) & (year%100 == 0) & (year%400 != 0):\n",
    "    print(0)\n",
    "elif (year%4 == 0) & (year%100 != 0) & (year%400 != 0):\n",
    "    print(1)\n",
    "else:\n",
    "    print(0)"
   ]
  },
  {
   "cell_type": "code",
   "execution_count": 168,
   "id": "731ee575",
   "metadata": {},
   "outputs": [
    {
     "name": "stdout",
     "output_type": "stream",
     "text": [
      "1900\n",
      "0\n"
     ]
    }
   ],
   "source": [
    "year = int(input())\n",
    "if (year%4 == 0 and (year%100 != 0 or year%400 == 0)):\n",
    "    print(1)\n",
    "else:\n",
    "    print(0)"
   ]
  },
  {
   "cell_type": "markdown",
   "id": "bb7ecc39",
   "metadata": {},
   "source": [
    "어느 사분면에 속하는지 알아내는 프로그램을 작성하시오"
   ]
  },
  {
   "cell_type": "code",
   "execution_count": 184,
   "id": "687c6662",
   "metadata": {},
   "outputs": [
    {
     "name": "stdout",
     "output_type": "stream",
     "text": [
      "4\n",
      "-90\n",
      "4\n"
     ]
    }
   ],
   "source": [
    "x=int(input())\n",
    "y=int(input())\n",
    "\n",
    "if 0<x<=1000 and 0<y<=1000:\n",
    "    print(1)\n",
    "elif (-1000<=x<0 and 0<y<=1000):\n",
    "    print(2)\n",
    "elif (-1000<=x<0 and -1000<=y<0):\n",
    "    print(3)\n",
    "else:\n",
    "    print(4)\n"
   ]
  },
  {
   "cell_type": "markdown",
   "id": "12c3f1d0",
   "metadata": {},
   "source": [
    "45분 일찍 알람 설정하기"
   ]
  },
  {
   "cell_type": "code",
   "execution_count": 201,
   "id": "eae5d27d",
   "metadata": {},
   "outputs": [
    {
     "name": "stdout",
     "output_type": "stream",
     "text": [
      "0 5\n",
      "23 20\n"
     ]
    }
   ],
   "source": [
    "H, M = map(int, input().split())\n",
    "if M < 45:\n",
    "    if H==0:\n",
    "        H=23\n",
    "        M+=60\n",
    "    else:\n",
    "        H-=1\n",
    "        M+=60\n",
    "print(H,M-45)"
   ]
  },
  {
   "cell_type": "markdown",
   "id": "d6aabcb8",
   "metadata": {},
   "source": [
    "- 현재 시각은 시 A (0 ≤ A ≤ 23) 와 분 B (0 ≤ B ≤ 59)가 정수로 빈칸을 사이에 두고 순서대로 주어진다. \n",
    "- 두 번째 줄에는 요리하는 데 필요한 시간 C (0 ≤ C ≤ 1,000)가 분 단위로 주어진다. "
   ]
  },
  {
   "cell_type": "code",
   "execution_count": 231,
   "id": "ef38acf5",
   "metadata": {},
   "outputs": [
    {
     "name": "stdout",
     "output_type": "stream",
     "text": [
      "23 59\n",
      "30\n",
      "0 29\n"
     ]
    }
   ],
   "source": [
    "# A, B = map(int, input().split())\n",
    "# C = int(input())\n",
    "\n",
    "# if B+C > 59:\n",
    "#     if A>=23:\n",
    "#         A=0\n",
    "#         B-=60\n",
    "#     else:\n",
    "#         A+=1\n",
    "#         B-=60\n",
    "# print(A, B+C)"
   ]
  },
  {
   "cell_type": "code",
   "execution_count": 236,
   "id": "1f2ce7ca",
   "metadata": {},
   "outputs": [
    {
     "name": "stdout",
     "output_type": "stream",
     "text": [
      "23 40\n",
      "30\n",
      "0 10\n"
     ]
    }
   ],
   "source": [
    "A, B = map(int, input().split())\n",
    "C = int(input())\n",
    "\n",
    "B+=C\n",
    "\n",
    "A+=(B//60)\n",
    "B%=60\n",
    "\n",
    "if A >23:\n",
    "    A-=24\n",
    "print(A,B)"
   ]
  },
  {
   "cell_type": "markdown",
   "id": "ec9a987b",
   "metadata": {},
   "source": [
    "- 같은 눈이 3개가 나오면 10,000원+(같은 눈)×1,000원의 상금을 받게 된다. \n",
    "- 같은 눈이 2개만 나오는 경우에는 1,000원+(같은 눈)×100원의 상금을 받게 된다. \n",
    "- 모두 다른 눈이 나오는 경우에는 (그 중 가장 큰 눈)×100원의 상금을 받게 된다.  "
   ]
  },
  {
   "cell_type": "code",
   "execution_count": 10,
   "id": "80cbd2e6",
   "metadata": {},
   "outputs": [
    {
     "name": "stdout",
     "output_type": "stream",
     "text": [
      "1 2 3\n",
      "300\n"
     ]
    }
   ],
   "source": [
    "#풀이 1\n",
    "a, b, c = map(int, input().split())\n",
    "\n",
    "if a==b==c:\n",
    "    print(10000+a*1000)\n",
    "elif a==b:\n",
    "    print(1000+a*100)\n",
    "elif b==c:\n",
    "    print(1000+b*100)\n",
    "elif a==c:\n",
    "    print(1000+a*100)\n",
    "elif a!=b!=c:\n",
    "    print(max(a,b,c)*100)"
   ]
  },
  {
   "cell_type": "code",
   "execution_count": null,
   "id": "7009b6cd",
   "metadata": {},
   "outputs": [],
   "source": [
    "#풀이 2\n",
    "a,b,c = sorted(map(int,input().split()))\n",
    "if (a+b+c)/3 == a:\n",
    "    print(10000+b*1000)\n",
    "elif (a+b)/2 == a or (b+c)/2 == b:\n",
    "    print(1000+b*100)\n",
    "else:\n",
    "    print(c*100)"
   ]
  },
  {
   "cell_type": "code",
   "execution_count": 9,
   "id": "9472104f",
   "metadata": {},
   "outputs": [
    {
     "name": "stdout",
     "output_type": "stream",
     "text": [
      "1 1 2\n",
      "1100\n"
     ]
    }
   ],
   "source": [
    "#풀이 3\n",
    "num = list(map(int,input().split()))\n",
    "if (num.count(num[0])==3):\n",
    "    print(10000+num[0]*1000)\n",
    "elif (num.count(num[0])==2):\n",
    "    print(1000+num[0]*100)\n",
    "elif (num.count(num[1])==2):\n",
    "    print(1000+num[1]*100)\n",
    "elif (num.count(num)[0] == 0) or (num.count(num)[1] == 0):\n",
    "    print(max(num)*100)"
   ]
  }
 ],
 "metadata": {
  "kernelspec": {
   "display_name": "Python 3 (ipykernel)",
   "language": "python",
   "name": "python3"
  },
  "language_info": {
   "codemirror_mode": {
    "name": "ipython",
    "version": 3
   },
   "file_extension": ".py",
   "mimetype": "text/x-python",
   "name": "python",
   "nbconvert_exporter": "python",
   "pygments_lexer": "ipython3",
   "version": "3.9.12"
  }
 },
 "nbformat": 4,
 "nbformat_minor": 5
}
