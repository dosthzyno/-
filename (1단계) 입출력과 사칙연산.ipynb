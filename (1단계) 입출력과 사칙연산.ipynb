{
 "cells": [
  {
   "cell_type": "markdown",
   "id": "e9e6a02b",
   "metadata": {},
   "source": [
    "# 입출력과 사칙연산"
   ]
  },
  {
   "cell_type": "code",
   "execution_count": 3,
   "id": "ecb39ce7",
   "metadata": {},
   "outputs": [
    {
     "name": "stdout",
     "output_type": "stream",
     "text": [
      "강한친구 대한육군\n",
      "강한친구 대한육군\n"
     ]
    }
   ],
   "source": [
    "print(\"강한친구 대한육군\\n강한친구 대한육군\")"
   ]
  },
  {
   "cell_type": "code",
   "execution_count": null,
   "id": "ca729e95",
   "metadata": {},
   "outputs": [],
   "source": [
    "\\    /\\\n",
    " )  ( ')\n",
    "(  /  )\n",
    " \\(__)|"
   ]
  },
  {
   "cell_type": "code",
   "execution_count": 12,
   "id": "f2594a5f",
   "metadata": {},
   "outputs": [
    {
     "name": "stdout",
     "output_type": "stream",
     "text": [
      "\\    /\\ \n",
      " )  ( ')\n",
      "(  /  )\n",
      " \\(__)|\n"
     ]
    }
   ],
   "source": [
    "print(\"\\    /\\ \", end=\"\\n\")\n",
    "print(\" )  ( ')\", end=\"\\n\")\n",
    "print(\"(  /  )\", end = \"\\n\")\n",
    "print(\" \\(__)|\")"
   ]
  },
  {
   "cell_type": "code",
   "execution_count": 32,
   "id": "72cd25ab",
   "metadata": {},
   "outputs": [],
   "source": [
    "|\\_/|\n",
    "|q p|   /}\n",
    "( 0 )\"\"\"\\\n",
    "|\"^\"`    |\n",
    "||_/=\\\\__|"
   ]
  },
  {
   "cell_type": "code",
   "execution_count": 35,
   "id": "a82ffd15",
   "metadata": {},
   "outputs": [
    {
     "name": "stdout",
     "output_type": "stream",
     "text": [
      "|\\_/|\n",
      "|q p|   /}\n",
      "( 0 )\"\"\"\\\n",
      "|\"^\"`    |\n",
      "||_/=\\\\__|\n"
     ]
    }
   ],
   "source": [
    "print(\"|\\_/|\")\n",
    "print(\"|q p|   /}\")\n",
    "print(\"( 0 )\\\"\\\"\\\"\\\\\")\n",
    "print(\"|\\\"^\\\"`    |\")\n",
    "print(\"||_/=\\\\\\__|\")"
   ]
  },
  {
   "cell_type": "code",
   "execution_count": 46,
   "id": "822b8551",
   "metadata": {},
   "outputs": [
    {
     "name": "stdout",
     "output_type": "stream",
     "text": [
      "1 2\n",
      "3\n"
     ]
    }
   ],
   "source": [
    "a, b=input().split()\n",
    "print(int(a)+int(b))"
   ]
  },
  {
   "cell_type": "code",
   "execution_count": 50,
   "id": "89f31906",
   "metadata": {},
   "outputs": [
    {
     "name": "stdout",
     "output_type": "stream",
     "text": [
      "3 2\n",
      "1\n"
     ]
    }
   ],
   "source": [
    "a, b=input().split()\n",
    "a=int(a)\n",
    "b=int(b)\n",
    "print(a-b)"
   ]
  },
  {
   "cell_type": "markdown",
   "id": "54b63614",
   "metadata": {},
   "source": [
    "첫째 줄에 A+B, 둘째 줄에 A-B, 셋째 줄에 A*B, 넷째 줄에 A/B, 다섯째 줄에 A%B를 출력한다."
   ]
  },
  {
   "cell_type": "code",
   "execution_count": 62,
   "id": "327632b6",
   "metadata": {},
   "outputs": [
    {
     "name": "stdout",
     "output_type": "stream",
     "text": [
      "7 3\n",
      "10\n",
      "4\n",
      "21\n",
      "2\n",
      "1\n"
     ]
    }
   ],
   "source": [
    "A, B = input().split()\n",
    "a=int(A)\n",
    "b=int(B)\n",
    "print(a+b)\n",
    "print(a-b)\n",
    "print(a*b)\n",
    "print(a//b)\n",
    "print(a%b)"
   ]
  },
  {
   "cell_type": "markdown",
   "id": "ebe0cb82",
   "metadata": {},
   "source": [
    "아이디는 알파벳 소문자로만 이루어져 있으며, 길이는 50자를 넘지 않는다.\n",
    "첫째 줄에 준하의 놀람을 출력한다. 놀람은 아이디 뒤에 ??!를 붙여서 나타낸다."
   ]
  },
  {
   "cell_type": "code",
   "execution_count": 71,
   "id": "66caa411",
   "metadata": {},
   "outputs": [
    {
     "name": "stdout",
     "output_type": "stream",
     "text": [
      "LOVE\n"
     ]
    },
    {
     "data": {
      "text/plain": [
       "'l??!o??!v??!e'"
      ]
     },
     "execution_count": 71,
     "metadata": {},
     "output_type": "execute_result"
    }
   ],
   "source": [
    "a = input().lower()\n",
    "print(a + \"??!\")"
   ]
  },
  {
   "cell_type": "code",
   "execution_count": 79,
   "id": "e0f8923f",
   "metadata": {},
   "outputs": [
    {
     "name": "stdout",
     "output_type": "stream",
     "text": [
      "2541\n",
      "1998\n"
     ]
    }
   ],
   "source": [
    "print(int(input())-543)"
   ]
  },
  {
   "cell_type": "markdown",
   "id": "b535f883",
   "metadata": {},
   "source": [
    " (A+B)%C, 둘째 줄에 ((A%C) + (B%C))%C, 셋째 줄에 (A×B)%C, 넷째 줄에 ((A%C) × (B%C))%C를 출력"
   ]
  },
  {
   "cell_type": "code",
   "execution_count": 88,
   "id": "a21eb0e5",
   "metadata": {},
   "outputs": [
    {
     "name": "stdout",
     "output_type": "stream",
     "text": [
      "5 8 4\n",
      "1\n",
      "1\n",
      "0\n",
      "0\n"
     ]
    }
   ],
   "source": [
    "a, b, c = input().split()\n",
    "A=int(a)\n",
    "B=int(b)\n",
    "C=int(c)\n",
    "if (2 <= A,B,C <= 10000):\n",
    "    print((A+B)%C)\n",
    "    print(((A%C) + (B%C))%C)\n",
    "    print((A*B)%C)\n",
    "    print(((A%C) * (B%C))%C)"
   ]
  },
  {
   "cell_type": "markdown",
   "id": "9f79a17a",
   "metadata": {},
   "source": [
    "세자리수 X 세자리수 "
   ]
  },
  {
   "cell_type": "code",
   "execution_count": 103,
   "id": "1a5ee227",
   "metadata": {},
   "outputs": [
    {
     "name": "stdout",
     "output_type": "stream",
     "text": [
      "472\n",
      "385\n",
      "2360\n",
      "3776\n",
      "1416\n",
      "181720\n"
     ]
    }
   ],
   "source": [
    "a = int(input())\n",
    "b = input()\n",
    "A = a * int(b[2])\n",
    "B = a * int(b[1])\n",
    "C = a * int(b[0])\n",
    "D = a*int(b)\n",
    "print(A,B,C,D,sep='\\n')"
   ]
  },
  {
   "cell_type": "code",
   "execution_count": null,
   "id": "8e394737",
   "metadata": {},
   "outputs": [],
   "source": [
    "         ,r'\"7\n",
    "r`-_   ,'  ,/\n",
    " \\. \". L_r'\n",
    "   `~\\/\n",
    "      |\n",
    "      |"
   ]
  },
  {
   "cell_type": "code",
   "execution_count": 105,
   "id": "ab4ce3b3",
   "metadata": {},
   "outputs": [
    {
     "name": "stdout",
     "output_type": "stream",
     "text": [
      "         ,r'\"7\n",
      "r`-_   ,'  ,/\n",
      " \\. \". L_r'\n",
      "   `~\\/\n",
      "      |\n",
      "      |\n"
     ]
    }
   ],
   "source": [
    "print(\"         ,r'\\\"7\")\n",
    "print(\"r`-_   ,'  ,/\")\n",
    "print(\" \\. \\\". L_r'\")\n",
    "print(\"   `~\\/\")\n",
    "print(\"      |\")\n",
    "print(\"      |\")"
   ]
  }
 ],
 "metadata": {
  "kernelspec": {
   "display_name": "Python 3 (ipykernel)",
   "language": "python",
   "name": "python3"
  },
  "language_info": {
   "codemirror_mode": {
    "name": "ipython",
    "version": 3
   },
   "file_extension": ".py",
   "mimetype": "text/x-python",
   "name": "python",
   "nbconvert_exporter": "python",
   "pygments_lexer": "ipython3",
   "version": "3.9.12"
  }
 },
 "nbformat": 4,
 "nbformat_minor": 5
}
